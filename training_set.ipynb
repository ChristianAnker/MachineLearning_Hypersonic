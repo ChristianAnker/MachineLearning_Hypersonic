{
 "cells": [
  {
   "cell_type": "code",
   "execution_count": 10,
   "metadata": {},
   "outputs": [],
   "source": [
    "# --------------------- Header -----------------\n",
    "import numpy as np\n",
    "import make_data as md\n",
    "import pickle\n",
    "import matplotlib.pyplot as plt\n",
    "import os"
   ]
  },
  {
   "cell_type": "code",
   "execution_count": 12,
   "metadata": {},
   "outputs": [],
   "source": [
    "# ------------------ dataset ------------------------\n",
    "class dataset():\n",
    "    def __init__(self, shape, case, alpha, dmax):\n",
    "        self.shape = shape\n",
    "        self.case  = case\n",
    "        self.alpha = alpha\n",
    "        self.dmax = dmax"
   ]
  },
  {
   "cell_type": "code",
   "execution_count": 15,
   "metadata": {},
   "outputs": [],
   "source": [
    "# -------------------- Make input ------------------------\n",
    "def make_input(coor, dy, r_d, num,  angle, output_orig):\n",
    "    # 200\n",
    "    input_list = list()\n",
    "    d_tot = coor[-1,2]\n",
    "    \n",
    "    curv = md.curvature_line(coor,0.01,1,500)\n",
    "    for i in range(1,len(curv)):\n",
    "        if curv[i,2] < curv[i-1,2] - 3:\n",
    "            curv[i,2] += np.pi*2\n",
    "            \n",
    "    y = 0\n",
    "    yd = dy\n",
    "    a0 = 0\n",
    "    \n",
    "    while y < d_tot:\n",
    "        yadd = 0\n",
    "        ang = angle\n",
    "        dis = np.zeros(6)\n",
    "        for i in range(6):\n",
    "            if y+yadd > d_tot:\n",
    "                dis[i] = 1e6\n",
    "                continue\n",
    "\n",
    "            distance = md.distance_angle(curv, y + yadd, [-ang, ang])\n",
    "            if distance[0] < distance[1]:\n",
    "                dis[i] = - distance[0]\n",
    "                \n",
    "            else:\n",
    "                dis[i] = distance[1]\n",
    "\n",
    "            yadd += distance.min()\n",
    "            ang *= 1.2\n",
    "        \n",
    "\n",
    "        curvature = md.curvature(coor, y, 0.01,1)[1:] # outputs aoa and curvature\n",
    "        curvature[1] = curvature[1]/10 #np.sign(curvature[1]) * abs(curvature[1])**0.5 / 10\n",
    "        input_list.append([y, yd*100, *curvature, *0.025/dis])#*(np.sign(dis)*abs(dis)**-0.5/10)])  #0.25 * 0.1\n",
    "\n",
    "        # Interpolate coordinates\n",
    "        dr = min( md.distance_angle(curv, y, [r_d, -r_d]) )\n",
    "        if dr/2 < dy:\n",
    "            yd = dr/2\n",
    "        y += yd\n",
    "        if dy < dr/2:\n",
    "            yd = dy\n",
    "\n",
    "    if len(input_list)< num:\n",
    "        return 0\n",
    "    inputs = np.array(input_list)[:num]\n",
    "    for i in range(1,len(inputs)):\n",
    "        if inputs[i,2] < inputs[i-1,2] - 3:\n",
    "            inputs[i,2] += np.pi*2\n",
    "    \n",
    "    x = output_orig[:,0]\n",
    "    outputs = np.interp(inputs[:,0], x, output_orig[:,1]/output_orig[0,1])\n",
    "    return [inputs, outputs]"
   ]
  },
  {
   "cell_type": "code",
   "execution_count": 67,
   "metadata": {},
   "outputs": [],
   "source": [
    "# ------------- gen input contant set ------------------\n",
    "m = 34\n",
    "n = 80\n",
    "max_dist_list = [0.01, 0.02, 0.03, 0.04, 0.05]\n",
    "max_ang_list = [0.05, 0.1, 0.3, 0.5]\n",
    "training_list  = list()\n",
    "for j in range(m):\n",
    "    name = f'Data/Constant_set/S{j}'\n",
    "    coor = md.load_shape(name+'/shape')   \n",
    "    for max_dist in max_dist_list:\n",
    "        for max_ang in max_ang_list: \n",
    "            set = dataset(j, 1, max_ang, max_dist)\n",
    "            output = np.load(name+'.npy')\n",
    "            data = make_input(coor, max_dist, max_ang, n, 1/4, output) #inputs -> y, dy, aoa, curv, curv1, curv2...\n",
    "            if not data: continue\n",
    "            set.input = data[0]\n",
    "            set.output = data[1]\n",
    "\n",
    "            training_list.append(set)\n",
    "\n",
    "with open('training_data', 'wb') as file:\n",
    "    pickle.dump(training_list, file)\n"
   ]
  },
  {
   "cell_type": "code",
   "execution_count": 4,
   "metadata": {},
   "outputs": [],
   "source": [
    "# Check the folder\n",
    "m = 20\n",
    "n = 20\n",
    "for j in range(m):\n",
    "    for i in range(n):\n",
    "        name = f'Data/Final_set/S{j}_C{i}'\n",
    "        if os.path.isdir(name) and not os.path.isfile(name+'.npy'):\n",
    "            print(name, 'is missing npy')\n",
    "            continue\n",
    "        if not os.path.isdir(name) and os.path.isfile(name+'.npy'):\n",
    "            print(name+'.npy', 'is missing folder')"
   ]
  },
  {
   "cell_type": "code",
   "execution_count": 8,
   "metadata": {},
   "outputs": [
    {
     "data": {
      "text/plain": [
       "array([0.27  , 0.8001, 1.14  , 1.001 ])"
      ]
     },
     "execution_count": 8,
     "metadata": {},
     "output_type": "execute_result"
    }
   ],
   "source": [
    "# ------------------- get flow function\n",
    "def get_flow(filename):\n",
    "    with open(filename+'/input_file', 'r') as file:\n",
    "        content = file.read()[:50]\n",
    "    ma = float(content.split()[0])\n",
    "    re = float(content.split()[1])\n",
    "    T0 = float(content.split()[2])\n",
    "    Tw = float(content.split()[3])\n",
    "    rho = float(content.split()[4])\n",
    "    return [ma, re, T0, rho]\n",
    "\n",
    "name = 'Data/Final_set/S20_C2'\n",
    "get_flow(name) / np.array([10, 10000, 200, 1000])"
   ]
  },
  {
   "cell_type": "code",
   "execution_count": 19,
   "metadata": {},
   "outputs": [],
   "source": [
    "# ------------ gen input primary set ------------------\n",
    "m = 20\n",
    "n = 20\n",
    "l = 80\n",
    "max_dist_list = [0.01, 0.02, 0.03, 0.04, 0.05]\n",
    "max_ang_list = [0.05, 0.1, 0.3, 0.5]\n",
    "training_list  = list()\n",
    "\n",
    "\n",
    "for j in range(m):\n",
    "    for i in range(n):\n",
    "        name = f'Data/Final_set/S{j}_C{i}'\n",
    "        if not os.path.isdir(name): continue\n",
    "        coor = md.load_shape(name+'/shape')\n",
    "        \n",
    "        for max_dist in max_dist_list:\n",
    "            for max_ang in max_ang_list: \n",
    "                set = dataset(j, i, max_ang, max_dist)\n",
    "                output = np.load(name+'.npy')\n",
    "                data = make_input(coor, max_dist, max_ang, l, 1/4, output) #inputs -> y, dy, aoa, curv, curv1, curv2...\n",
    "                if not data: continue\n",
    "                set.flow = get_flow(name)\n",
    "                set.input = data[0]\n",
    "                set.output = data[1]\n",
    "\n",
    "                training_list.append(set)\n",
    "\n",
    "with open('training_data_primary', 'wb') as file:\n",
    "    pickle.dump(training_list, file)\n"
   ]
  },
  {
   "cell_type": "code",
   "execution_count": 14,
   "metadata": {},
   "outputs": [
    {
     "name": "stdout",
     "output_type": "stream",
     "text": [
      "C0 & 5.3 & 10000 & 234\n",
      "C1 & 10.3 & 11000 & 243\n",
      "C2 & 2.7 & 8000 & 228\n",
      "C3 & 12.2 & 19000 & 237\n",
      "C4 & 10.5 & 12000 & 243\n",
      "C5 & 3.6 & 10000 & 228\n",
      "C6 & 5.5 & 16000 & 228\n",
      "C7 & 11.8 & 13000 & 243\n",
      "C8 & 10.1 & 14000 & 239\n",
      "C9 & 6.6 & 14000 & 233\n",
      "C10 & 4.1 & 15000 & 226\n",
      "C11 & 9.4 & 15000 & 237\n",
      "C12 & 6.2 & 15000 & 230\n",
      "C13 & 10.1 & 19000 & 234\n",
      "C14 & 6.3 & 15000 & 230\n",
      "C15 & 4.6 & 14000 & 228\n",
      "C16 & 7.5 & 17000 & 231\n",
      "C17 & 9.8 & 17000 & 236\n",
      "C18 & 3.5 & 12000 & 227\n",
      "C19 & 7.1 & 18000 & 229\n"
     ]
    }
   ],
   "source": [
    "# ------------------ check folder ----------------\n",
    "for j in range(20):\n",
    "    for i in range(20):\n",
    "        name = f'Data/Final_set/S{i}_C{j}'\n",
    "        if not os.path.isdir(name): continue\n",
    "        nname = name\n",
    "    a = get_flow(nname)\n",
    "    print(f'C{j} & {a[0]:.1f} & {a[1]/1000:.0f}000 & {a[2]:.0f}')"
   ]
  },
  {
   "cell_type": "code",
   "execution_count": 100,
   "metadata": {},
   "outputs": [
    {
     "name": "stdout",
     "output_type": "stream",
     "text": [
      "16 2\n",
      "22 3\n",
      "25 6\n",
      "26 9\n",
      "27 10\n",
      "28 13\n",
      "29 16\n"
     ]
    }
   ],
   "source": [
    "# ----------------------- New shapes and cases numbers --------------------------\n",
    "m = 20\n",
    "n = 30\n",
    "\n",
    "mat = np.zeros((m,n))\n",
    "for j in range(m):\n",
    "    for i in range(n):\n",
    "        name = f'Data/Final_set/S{j}_C{i}'\n",
    "        if not os.path.isdir(name): continue\n",
    "        mat[j,i] = 1\n",
    "\n",
    "mat[4,23] = mat[6,24] = mat[15,3] = mat[8,0] = mat[19,23] = mat[9,10] = mat[5,20] = mat[12,11] = mat[13,13] = mat[18,15] = mat[2,6] = mat[10,7] = 1\n",
    "\n",
    "for j in range(m):\n",
    "    for i in range(n):\n",
    "        if mat[j].sum() + mat[:,i].sum() == 1:\n",
    "            print(i,j)\n",
    "            mat[j,i] = 1\n",
    "\n",
    "# Find "
   ]
  },
  {
   "cell_type": "code",
   "execution_count": 15,
   "metadata": {},
   "outputs": [],
   "source": [
    "# ------------------------ Cases as points ------------------------\n",
    "points = list()\n",
    "for i in range(27):\n",
    "    filename = f'Cases_files/C{i}/input_file'\n",
    "    with open(filename, 'r') as file:\n",
    "        content = file.read()[:20]\n",
    "    ma = float(content.split()[0])\n",
    "    re = float(content.split()[1])\n",
    "    points.append([ma, re])\n",
    "\n",
    "np.save('casepoints.npy',np.array(points))\n",
    "    "
   ]
  }
 ],
 "metadata": {
  "kernelspec": {
   "display_name": "Python 3",
   "language": "python",
   "name": "python3"
  },
  "language_info": {
   "codemirror_mode": {
    "name": "ipython",
    "version": 3
   },
   "file_extension": ".py",
   "mimetype": "text/x-python",
   "name": "python",
   "nbconvert_exporter": "python",
   "pygments_lexer": "ipython3",
   "version": "3.11.4"
  },
  "orig_nbformat": 4,
  "vscode": {
   "interpreter": {
    "hash": "8a5edab282632443219e051e4ade2d1d5bbc671c781051bf1437897cbdfea0f1"
   }
  }
 },
 "nbformat": 4,
 "nbformat_minor": 2
}
